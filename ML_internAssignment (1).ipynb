{
  "cells": [
    {
      "cell_type": "code",
      "execution_count": null,
      "metadata": {
        "colab": {
          "base_uri": "https://localhost:8080/"
        },
        "id": "NyQgz1sE-2qt",
        "outputId": "3ddcdd8a-00ce-4c9e-b333-3346628bd770"
      },
      "outputs": [
        {
          "name": "stdout",
          "output_type": "stream",
          "text": [
            "Requirement already satisfied: torch in /usr/local/lib/python3.11/dist-packages (2.6.0+cu124)\n",
            "Requirement already satisfied: torchvision in /usr/local/lib/python3.11/dist-packages (0.21.0+cu124)\n",
            "Requirement already satisfied: wandb in /usr/local/lib/python3.11/dist-packages (0.21.0)\n",
            "Requirement already satisfied: matplotlib in /usr/local/lib/python3.11/dist-packages (3.10.0)\n",
            "Requirement already satisfied: opencv-python in /usr/local/lib/python3.11/dist-packages (4.12.0.88)\n",
            "Requirement already satisfied: filelock in /usr/local/lib/python3.11/dist-packages (from torch) (3.18.0)\n",
            "Requirement already satisfied: typing-extensions>=4.10.0 in /usr/local/lib/python3.11/dist-packages (from torch) (4.14.1)\n",
            "Requirement already satisfied: networkx in /usr/local/lib/python3.11/dist-packages (from torch) (3.5)\n",
            "Requirement already satisfied: jinja2 in /usr/local/lib/python3.11/dist-packages (from torch) (3.1.6)\n",
            "Requirement already satisfied: fsspec in /usr/local/lib/python3.11/dist-packages (from torch) (2025.3.0)\n",
            "Collecting nvidia-cuda-nvrtc-cu12==12.4.127 (from torch)\n",
            "  Downloading nvidia_cuda_nvrtc_cu12-12.4.127-py3-none-manylinux2014_x86_64.whl.metadata (1.5 kB)\n",
            "Collecting nvidia-cuda-runtime-cu12==12.4.127 (from torch)\n",
            "  Downloading nvidia_cuda_runtime_cu12-12.4.127-py3-none-manylinux2014_x86_64.whl.metadata (1.5 kB)\n",
            "Collecting nvidia-cuda-cupti-cu12==12.4.127 (from torch)\n",
            "  Downloading nvidia_cuda_cupti_cu12-12.4.127-py3-none-manylinux2014_x86_64.whl.metadata (1.6 kB)\n",
            "Collecting nvidia-cudnn-cu12==9.1.0.70 (from torch)\n",
            "  Downloading nvidia_cudnn_cu12-9.1.0.70-py3-none-manylinux2014_x86_64.whl.metadata (1.6 kB)\n",
            "Collecting nvidia-cublas-cu12==12.4.5.8 (from torch)\n",
            "  Downloading nvidia_cublas_cu12-12.4.5.8-py3-none-manylinux2014_x86_64.whl.metadata (1.5 kB)\n",
            "Collecting nvidia-cufft-cu12==11.2.1.3 (from torch)\n",
            "  Downloading nvidia_cufft_cu12-11.2.1.3-py3-none-manylinux2014_x86_64.whl.metadata (1.5 kB)\n",
            "Collecting nvidia-curand-cu12==10.3.5.147 (from torch)\n",
            "  Downloading nvidia_curand_cu12-10.3.5.147-py3-none-manylinux2014_x86_64.whl.metadata (1.5 kB)\n",
            "Collecting nvidia-cusolver-cu12==11.6.1.9 (from torch)\n",
            "  Downloading nvidia_cusolver_cu12-11.6.1.9-py3-none-manylinux2014_x86_64.whl.metadata (1.6 kB)\n",
            "Collecting nvidia-cusparse-cu12==12.3.1.170 (from torch)\n",
            "  Downloading nvidia_cusparse_cu12-12.3.1.170-py3-none-manylinux2014_x86_64.whl.metadata (1.6 kB)\n",
            "Requirement already satisfied: nvidia-cusparselt-cu12==0.6.2 in /usr/local/lib/python3.11/dist-packages (from torch) (0.6.2)\n",
            "Requirement already satisfied: nvidia-nccl-cu12==2.21.5 in /usr/local/lib/python3.11/dist-packages (from torch) (2.21.5)\n",
            "Requirement already satisfied: nvidia-nvtx-cu12==12.4.127 in /usr/local/lib/python3.11/dist-packages (from torch) (12.4.127)\n",
            "Collecting nvidia-nvjitlink-cu12==12.4.127 (from torch)\n",
            "  Downloading nvidia_nvjitlink_cu12-12.4.127-py3-none-manylinux2014_x86_64.whl.metadata (1.5 kB)\n",
            "Requirement already satisfied: triton==3.2.0 in /usr/local/lib/python3.11/dist-packages (from torch) (3.2.0)\n",
            "Requirement already satisfied: sympy==1.13.1 in /usr/local/lib/python3.11/dist-packages (from torch) (1.13.1)\n",
            "Requirement already satisfied: mpmath<1.4,>=1.1.0 in /usr/local/lib/python3.11/dist-packages (from sympy==1.13.1->torch) (1.3.0)\n",
            "Requirement already satisfied: numpy in /usr/local/lib/python3.11/dist-packages (from torchvision) (2.0.2)\n",
            "Requirement already satisfied: pillow!=8.3.*,>=5.3.0 in /usr/local/lib/python3.11/dist-packages (from torchvision) (11.3.0)\n",
            "Requirement already satisfied: click!=8.0.0,>=7.1 in /usr/local/lib/python3.11/dist-packages (from wandb) (8.2.1)\n",
            "Requirement already satisfied: gitpython!=3.1.29,>=1.0.0 in /usr/local/lib/python3.11/dist-packages (from wandb) (3.1.45)\n",
            "Requirement already satisfied: packaging in /usr/local/lib/python3.11/dist-packages (from wandb) (25.0)\n",
            "Requirement already satisfied: platformdirs in /usr/local/lib/python3.11/dist-packages (from wandb) (4.3.8)\n",
            "Requirement already satisfied: protobuf!=4.21.0,!=5.28.0,<7,>=3.19.0 in /usr/local/lib/python3.11/dist-packages (from wandb) (5.29.5)\n",
            "Requirement already satisfied: pydantic<3 in /usr/local/lib/python3.11/dist-packages (from wandb) (2.11.7)\n",
            "Requirement already satisfied: pyyaml in /usr/local/lib/python3.11/dist-packages (from wandb) (6.0.2)\n",
            "Requirement already satisfied: requests<3,>=2.0.0 in /usr/local/lib/python3.11/dist-packages (from wandb) (2.32.3)\n",
            "Requirement already satisfied: sentry-sdk>=2.0.0 in /usr/local/lib/python3.11/dist-packages (from wandb) (2.33.2)\n",
            "Requirement already satisfied: contourpy>=1.0.1 in /usr/local/lib/python3.11/dist-packages (from matplotlib) (1.3.2)\n",
            "Requirement already satisfied: cycler>=0.10 in /usr/local/lib/python3.11/dist-packages (from matplotlib) (0.12.1)\n",
            "Requirement already satisfied: fonttools>=4.22.0 in /usr/local/lib/python3.11/dist-packages (from matplotlib) (4.59.0)\n",
            "Requirement already satisfied: kiwisolver>=1.3.1 in /usr/local/lib/python3.11/dist-packages (from matplotlib) (1.4.8)\n",
            "Requirement already satisfied: pyparsing>=2.3.1 in /usr/local/lib/python3.11/dist-packages (from matplotlib) (3.2.3)\n",
            "Requirement already satisfied: python-dateutil>=2.7 in /usr/local/lib/python3.11/dist-packages (from matplotlib) (2.9.0.post0)\n",
            "Requirement already satisfied: gitdb<5,>=4.0.1 in /usr/local/lib/python3.11/dist-packages (from gitpython!=3.1.29,>=1.0.0->wandb) (4.0.12)\n",
            "Requirement already satisfied: annotated-types>=0.6.0 in /usr/local/lib/python3.11/dist-packages (from pydantic<3->wandb) (0.7.0)\n",
            "Requirement already satisfied: pydantic-core==2.33.2 in /usr/local/lib/python3.11/dist-packages (from pydantic<3->wandb) (2.33.2)\n",
            "Requirement already satisfied: typing-inspection>=0.4.0 in /usr/local/lib/python3.11/dist-packages (from pydantic<3->wandb) (0.4.1)\n",
            "Requirement already satisfied: six>=1.5 in /usr/local/lib/python3.11/dist-packages (from python-dateutil>=2.7->matplotlib) (1.17.0)\n",
            "Requirement already satisfied: charset-normalizer<4,>=2 in /usr/local/lib/python3.11/dist-packages (from requests<3,>=2.0.0->wandb) (3.4.2)\n",
            "Requirement already satisfied: idna<4,>=2.5 in /usr/local/lib/python3.11/dist-packages (from requests<3,>=2.0.0->wandb) (3.10)\n",
            "Requirement already satisfied: urllib3<3,>=1.21.1 in /usr/local/lib/python3.11/dist-packages (from requests<3,>=2.0.0->wandb) (2.5.0)\n",
            "Requirement already satisfied: certifi>=2017.4.17 in /usr/local/lib/python3.11/dist-packages (from requests<3,>=2.0.0->wandb) (2025.7.14)\n",
            "Requirement already satisfied: MarkupSafe>=2.0 in /usr/local/lib/python3.11/dist-packages (from jinja2->torch) (3.0.2)\n",
            "Requirement already satisfied: smmap<6,>=3.0.1 in /usr/local/lib/python3.11/dist-packages (from gitdb<5,>=4.0.1->gitpython!=3.1.29,>=1.0.0->wandb) (5.0.2)\n",
            "Downloading nvidia_cublas_cu12-12.4.5.8-py3-none-manylinux2014_x86_64.whl (363.4 MB)\n",
            "\u001b[2K   \u001b[90m━━━━━━━━━━━━━━━━━━━━━━━━━━━━━━━━━━━━━━━━\u001b[0m \u001b[32m363.4/363.4 MB\u001b[0m \u001b[31m1.5 MB/s\u001b[0m eta \u001b[36m0:00:00\u001b[0m\n",
            "\u001b[?25hDownloading nvidia_cuda_cupti_cu12-12.4.127-py3-none-manylinux2014_x86_64.whl (13.8 MB)\n",
            "\u001b[2K   \u001b[90m━━━━━━━━━━━━━━━━━━━━━━━━━━━━━━━━━━━━━━━━\u001b[0m \u001b[32m13.8/13.8 MB\u001b[0m \u001b[31m78.3 MB/s\u001b[0m eta \u001b[36m0:00:00\u001b[0m\n",
            "\u001b[?25hDownloading nvidia_cuda_nvrtc_cu12-12.4.127-py3-none-manylinux2014_x86_64.whl (24.6 MB)\n",
            "\u001b[2K   \u001b[90m━━━━━━━━━━━━━━━━━━━━━━━━━━━━━━━━━━━━━━━━\u001b[0m \u001b[32m24.6/24.6 MB\u001b[0m \u001b[31m66.7 MB/s\u001b[0m eta \u001b[36m0:00:00\u001b[0m\n",
            "\u001b[?25hDownloading nvidia_cuda_runtime_cu12-12.4.127-py3-none-manylinux2014_x86_64.whl (883 kB)\n",
            "\u001b[2K   \u001b[90m━━━━━━━━━━━━━━━━━━━━━━━━━━━━━━━━━━━━━━━━\u001b[0m \u001b[32m883.7/883.7 kB\u001b[0m \u001b[31m40.5 MB/s\u001b[0m eta \u001b[36m0:00:00\u001b[0m\n",
            "\u001b[?25hDownloading nvidia_cudnn_cu12-9.1.0.70-py3-none-manylinux2014_x86_64.whl (664.8 MB)\n",
            "\u001b[2K   \u001b[90m━━━━━━━━━━━━━━━━━━━━━━━━━━━━━━━━━━━━━━━━\u001b[0m \u001b[32m664.8/664.8 MB\u001b[0m \u001b[31m2.8 MB/s\u001b[0m eta \u001b[36m0:00:00\u001b[0m\n",
            "\u001b[?25hDownloading nvidia_cufft_cu12-11.2.1.3-py3-none-manylinux2014_x86_64.whl (211.5 MB)\n",
            "\u001b[2K   \u001b[90m━━━━━━━━━━━━━━━━━━━━━━━━━━━━━━━━━━━━━━━━\u001b[0m \u001b[32m211.5/211.5 MB\u001b[0m \u001b[31m5.5 MB/s\u001b[0m eta \u001b[36m0:00:00\u001b[0m\n",
            "\u001b[?25hDownloading nvidia_curand_cu12-10.3.5.147-py3-none-manylinux2014_x86_64.whl (56.3 MB)\n",
            "\u001b[2K   \u001b[90m━━━━━━━━━━━━━━━━━━━━━━━━━━━━━━━━━━━━━━━━\u001b[0m \u001b[32m56.3/56.3 MB\u001b[0m \u001b[31m12.1 MB/s\u001b[0m eta \u001b[36m0:00:00\u001b[0m\n",
            "\u001b[?25hDownloading nvidia_cusolver_cu12-11.6.1.9-py3-none-manylinux2014_x86_64.whl (127.9 MB)\n",
            "\u001b[2K   \u001b[90m━━━━━━━━━━━━━━━━━━━━━━━━━━━━━━━━━━━━━━━━\u001b[0m \u001b[32m127.9/127.9 MB\u001b[0m \u001b[31m7.5 MB/s\u001b[0m eta \u001b[36m0:00:00\u001b[0m\n",
            "\u001b[?25hDownloading nvidia_cusparse_cu12-12.3.1.170-py3-none-manylinux2014_x86_64.whl (207.5 MB)\n",
            "\u001b[2K   \u001b[90m━━━━━━━━━━━━━━━━━━━━━━━━━━━━━━━━━━━━━━━━\u001b[0m \u001b[32m207.5/207.5 MB\u001b[0m \u001b[31m5.9 MB/s\u001b[0m eta \u001b[36m0:00:00\u001b[0m\n",
            "\u001b[?25hDownloading nvidia_nvjitlink_cu12-12.4.127-py3-none-manylinux2014_x86_64.whl (21.1 MB)\n",
            "\u001b[2K   \u001b[90m━━━━━━━━━━━━━━━━━━━━━━━━━━━━━━━━━━━━━━━━\u001b[0m \u001b[32m21.1/21.1 MB\u001b[0m \u001b[31m89.3 MB/s\u001b[0m eta \u001b[36m0:00:00\u001b[0m\n",
            "\u001b[?25hInstalling collected packages: nvidia-nvjitlink-cu12, nvidia-curand-cu12, nvidia-cufft-cu12, nvidia-cuda-runtime-cu12, nvidia-cuda-nvrtc-cu12, nvidia-cuda-cupti-cu12, nvidia-cublas-cu12, nvidia-cusparse-cu12, nvidia-cudnn-cu12, nvidia-cusolver-cu12\n",
            "  Attempting uninstall: nvidia-nvjitlink-cu12\n",
            "    Found existing installation: nvidia-nvjitlink-cu12 12.5.82\n",
            "    Uninstalling nvidia-nvjitlink-cu12-12.5.82:\n",
            "      Successfully uninstalled nvidia-nvjitlink-cu12-12.5.82\n",
            "  Attempting uninstall: nvidia-curand-cu12\n",
            "    Found existing installation: nvidia-curand-cu12 10.3.6.82\n",
            "    Uninstalling nvidia-curand-cu12-10.3.6.82:\n",
            "      Successfully uninstalled nvidia-curand-cu12-10.3.6.82\n",
            "  Attempting uninstall: nvidia-cufft-cu12\n",
            "    Found existing installation: nvidia-cufft-cu12 11.2.3.61\n",
            "    Uninstalling nvidia-cufft-cu12-11.2.3.61:\n",
            "      Successfully uninstalled nvidia-cufft-cu12-11.2.3.61\n",
            "  Attempting uninstall: nvidia-cuda-runtime-cu12\n",
            "    Found existing installation: nvidia-cuda-runtime-cu12 12.5.82\n",
            "    Uninstalling nvidia-cuda-runtime-cu12-12.5.82:\n",
            "      Successfully uninstalled nvidia-cuda-runtime-cu12-12.5.82\n",
            "  Attempting uninstall: nvidia-cuda-nvrtc-cu12\n",
            "    Found existing installation: nvidia-cuda-nvrtc-cu12 12.5.82\n",
            "    Uninstalling nvidia-cuda-nvrtc-cu12-12.5.82:\n",
            "      Successfully uninstalled nvidia-cuda-nvrtc-cu12-12.5.82\n",
            "  Attempting uninstall: nvidia-cuda-cupti-cu12\n",
            "    Found existing installation: nvidia-cuda-cupti-cu12 12.5.82\n",
            "    Uninstalling nvidia-cuda-cupti-cu12-12.5.82:\n",
            "      Successfully uninstalled nvidia-cuda-cupti-cu12-12.5.82\n",
            "  Attempting uninstall: nvidia-cublas-cu12\n",
            "    Found existing installation: nvidia-cublas-cu12 12.5.3.2\n",
            "    Uninstalling nvidia-cublas-cu12-12.5.3.2:\n",
            "      Successfully uninstalled nvidia-cublas-cu12-12.5.3.2\n",
            "  Attempting uninstall: nvidia-cusparse-cu12\n",
            "    Found existing installation: nvidia-cusparse-cu12 12.5.1.3\n",
            "    Uninstalling nvidia-cusparse-cu12-12.5.1.3:\n",
            "      Successfully uninstalled nvidia-cusparse-cu12-12.5.1.3\n",
            "  Attempting uninstall: nvidia-cudnn-cu12\n",
            "    Found existing installation: nvidia-cudnn-cu12 9.3.0.75\n",
            "    Uninstalling nvidia-cudnn-cu12-9.3.0.75:\n",
            "      Successfully uninstalled nvidia-cudnn-cu12-9.3.0.75\n",
            "  Attempting uninstall: nvidia-cusolver-cu12\n",
            "    Found existing installation: nvidia-cusolver-cu12 11.6.3.83\n",
            "    Uninstalling nvidia-cusolver-cu12-11.6.3.83:\n",
            "      Successfully uninstalled nvidia-cusolver-cu12-11.6.3.83\n",
            "Successfully installed nvidia-cublas-cu12-12.4.5.8 nvidia-cuda-cupti-cu12-12.4.127 nvidia-cuda-nvrtc-cu12-12.4.127 nvidia-cuda-runtime-cu12-12.4.127 nvidia-cudnn-cu12-9.1.0.70 nvidia-cufft-cu12-11.2.1.3 nvidia-curand-cu12-10.3.5.147 nvidia-cusolver-cu12-11.6.1.9 nvidia-cusparse-cu12-12.3.1.170 nvidia-nvjitlink-cu12-12.4.127\n"
          ]
        }
      ],
      "source": [
        "!pip install torch torchvision wandb matplotlib opencv-python"
      ]
    },
    {
      "cell_type": "code",
      "execution_count": 1,
      "metadata": {
        "id": "ig4RWunvCIGU"
      },
      "outputs": [],
      "source": [
        "import os\n",
        "import json\n",
        "from PIL import Image\n",
        "import torch\n",
        "import torch.nn as nn\n",
        "from torch.utils.data import Dataset, DataLoader\n",
        "from torch.optim.lr_scheduler import ReduceLROnPlateau\n",
        "from torchvision.transforms import Compose, Resize, ToTensor, RandomHorizontalFlip, RandomRotation, Normalize\n",
        "import torch.nn.functional as F\n",
        "import numpy as np\n",
        "import wandb\n",
        "\n",
        "# ----- Dataset (FIXED: No normalization on targets) -----\n",
        "class PolygonColorDataset(Dataset):\n",
        "    def __init__(self, root_dir, split='training', transform=None, color_map=None):\n",
        "        self.root_dir = root_dir\n",
        "        self.split = split\n",
        "        self.transform = transform\n",
        "        self.color_map = color_map or {}\n",
        "        json_path = os.path.join(root_dir, split, 'data.json')\n",
        "        with open(json_path, 'r') as f:\n",
        "            self.data = json.load(f)\n",
        "        if not self.color_map:\n",
        "            colors = sorted(list({item[\"colour\"] for item in self.data}))\n",
        "            self.color_map = {color: idx for idx, color in enumerate(colors)}\n",
        "\n",
        "    def __len__(self):\n",
        "        return len(self.data)\n",
        "\n",
        "    def __getitem__(self, idx):\n",
        "        item = self.data[idx]\n",
        "        input_name = item[\"input_polygon\"]\n",
        "        color_name = item[\"colour\"]\n",
        "        output_name = item[\"output_image\"]\n",
        "        input_path = os.path.join(self.root_dir, self.split, 'inputs', input_name)\n",
        "        output_path = os.path.join(self.root_dir, self.split, 'outputs', output_name)\n",
        "\n",
        "        input_image = Image.open(input_path).convert('RGB')\n",
        "        output_image = Image.open(output_path).convert('RGB')\n",
        "\n",
        "        # Apply transform to input only, keep output in [0,1] range\n",
        "        if self.transform:\n",
        "            input_image = self.transform(input_image)\n",
        "\n",
        "        # Convert output to tensor without normalization\n",
        "        output_tensor = ToTensor()(output_image)\n",
        "\n",
        "        color_idx = self.color_map[color_name]\n",
        "        return input_image, torch.tensor(color_idx, dtype=torch.long), output_tensor"
      ]
    },
    {
      "cell_type": "code",
      "execution_count": 2,
      "metadata": {
        "id": "Gv67PvmyO2t9"
      },
      "outputs": [],
      "source": [
        "class DoubleConv(nn.Module):\n",
        "    def __init__(self, in_channels, out_channels):\n",
        "        super().__init__()\n",
        "        self.conv = nn.Sequential(\n",
        "            nn.Conv2d(in_channels, out_channels, 3, padding=1),\n",
        "            nn.BatchNorm2d(out_channels),\n",
        "            nn.ReLU(inplace=True),\n",
        "            nn.Conv2d(out_channels, out_channels, 3, padding=1),\n",
        "            nn.BatchNorm2d(out_channels),\n",
        "            nn.ReLU(inplace=True),\n",
        "        )\n",
        "    def forward(self, x):\n",
        "        return self.conv(x)"
      ]
    },
    {
      "cell_type": "code",
      "execution_count": 3,
      "metadata": {
        "id": "mgKXZpX4PDFU"
      },
      "outputs": [],
      "source": [
        "class ConditionalUNet(nn.Module):\n",
        "    def __init__(self, input_channels=3, base_channels=128, num_colors=10, embedding_dim=32):\n",
        "        super().__init__()\n",
        "        self.color_emb = nn.Embedding(num_colors, embedding_dim)\n",
        "        self.down1 = DoubleConv(input_channels + embedding_dim, base_channels)\n",
        "        self.pool1 = nn.MaxPool2d(2)\n",
        "        self.down2 = DoubleConv(base_channels, base_channels*2)\n",
        "        self.pool2 = nn.MaxPool2d(2)\n",
        "        self.down3 = DoubleConv(base_channels*2, base_channels*4)\n",
        "        self.pool3 = nn.MaxPool2d(2)\n",
        "        self.down4 = DoubleConv(base_channels*4, base_channels*8)\n",
        "        self.pool4 = nn.MaxPool2d(2)\n",
        "\n",
        "        self.bottleneck = DoubleConv(base_channels*8, base_channels*16)\n",
        "\n",
        "        self.up4 = nn.ConvTranspose2d(base_channels*16, base_channels*8, 2, 2)\n",
        "        self.conv4 = DoubleConv(base_channels*16, base_channels*8)\n",
        "        self.up3 = nn.ConvTranspose2d(base_channels*8, base_channels*4, 2, 2)\n",
        "        self.conv3 = DoubleConv(base_channels*8, base_channels*4)\n",
        "        self.up2 = nn.ConvTranspose2d(base_channels*4, base_channels*2, 2, 2)\n",
        "        self.conv2 = DoubleConv(base_channels*4, base_channels*2)\n",
        "        self.up1 = nn.ConvTranspose2d(base_channels*2, base_channels, 2, 2)\n",
        "        self.conv1 = DoubleConv(base_channels*2, base_channels)\n",
        "\n",
        "        # Final layers for sharp output\n",
        "        self.final_conv = nn.Sequential(\n",
        "            nn.Conv2d(base_channels, base_channels//2, 3, padding=1),\n",
        "            nn.ReLU(inplace=True),\n",
        "            nn.Conv2d(base_channels//2, 3, 1),\n",
        "            nn.Sigmoid()  # Keep sigmoid since targets are [0,1]\n",
        "        )\n",
        "\n",
        "    def forward(self, x, color_idx):\n",
        "        B, C, H, W = x.shape\n",
        "        color_vec = self.color_emb(color_idx)\n",
        "        color_broadcast = color_vec.view(B, -1, 1, 1).expand(-1, -1, H, W)\n",
        "        x = torch.cat([x, color_broadcast], dim=1)\n",
        "\n",
        "        d1 = self.down1(x); p1 = self.pool1(d1)\n",
        "        d2 = self.down2(p1); p2 = self.pool2(d2)\n",
        "        d3 = self.down3(p2); p3 = self.pool3(d3)\n",
        "        d4 = self.down4(p3); p4 = self.pool4(d4)\n",
        "\n",
        "        b = self.bottleneck(p4)\n",
        "\n",
        "        up4 = self.up4(b)\n",
        "        cat4 = torch.cat([up4, d4], 1)\n",
        "        c4 = self.conv4(cat4)\n",
        "\n",
        "        up3 = self.up3(c4)\n",
        "        cat3 = torch.cat([up3, d3], 1)\n",
        "        c3 = self.conv3(cat3)\n",
        "\n",
        "        up2 = self.up2(c3)\n",
        "        cat2 = torch.cat([up2, d2], 1)\n",
        "        c2 = self.conv2(cat2)\n",
        "\n",
        "        up1 = self.up1(c2)\n",
        "        cat1 = torch.cat([up1, d1], 1)\n",
        "        c1 = self.conv1(cat1)\n",
        "\n",
        "        out = self.final_conv(c1)\n",
        "        return out"
      ]
    },
    {
      "cell_type": "code",
      "source": [
        "class CombinedLoss(nn.Module):\n",
        "    def __init__(self):\n",
        "        super().__init__()\n",
        "        self.l1_loss = nn.L1Loss()\n",
        "        self.mse_loss = nn.MSELoss()\n",
        "\n",
        "    def forward(self, pred, target):\n",
        "        l1 = self.l1_loss(pred, target)\n",
        "        mse = self.mse_loss(pred, target)\n",
        "\n",
        "        # Vertical edges: shape [B,C,H-1,W]\n",
        "        pred_vert = torch.abs(pred[:, :, 1:, :] - pred[:, :, :-1, :])\n",
        "        target_vert = torch.abs(target[:, :, 1:, :] - target[:, :, :-1, :])\n",
        "        vert_loss = self.l1_loss(pred_vert, target_vert)\n",
        "\n",
        "        # Horizontal edges: shape [B,C,H,W-1]\n",
        "        pred_horz = torch.abs(pred[:, :, :, 1:] - pred[:, :, :, :-1])\n",
        "        target_horz = torch.abs(target[:, :, :, 1:] - target[:, :, :, :-1])\n",
        "        horz_loss = self.l1_loss(pred_horz, target_horz)\n",
        "\n",
        "        edge_loss = (vert_loss + horz_loss) * 0.5\n",
        "\n",
        "        return l1 + 0.5 * mse + 0.3 * edge_loss"
      ],
      "metadata": {
        "id": "5yYsEF5nMNST"
      },
      "execution_count": 4,
      "outputs": []
    },
    {
      "cell_type": "code",
      "execution_count": 5,
      "metadata": {
        "id": "xkApy1DCPMGK"
      },
      "outputs": [],
      "source": [
        "def psnr(img1, img2):\n",
        "    mse = F.mse_loss(img1, img2)\n",
        "    if mse == 0: return 100\n",
        "    return 20 * torch.log10(1.0 / torch.sqrt(mse))"
      ]
    },
    {
      "cell_type": "code",
      "source": [
        "def unnormalize_input(img):\n",
        "    return img * 0.5 + 0.5"
      ],
      "metadata": {
        "id": "hxENovu-MUtt"
      },
      "execution_count": 6,
      "outputs": []
    },
    {
      "cell_type": "code",
      "execution_count": 7,
      "metadata": {
        "id": "HNUV-owyPP_p"
      },
      "outputs": [],
      "source": [
        "def train_epoch(model, dataloader, optimizer, criterion, device):\n",
        "    model.train()\n",
        "    running_loss = 0\n",
        "    for imgs, color_idx, gts in dataloader:\n",
        "        imgs = imgs.to(device)\n",
        "        gts = gts.to(device)\n",
        "        color_idx = color_idx.to(device)\n",
        "        optimizer.zero_grad()\n",
        "        preds = model(imgs, color_idx)\n",
        "        loss = criterion(preds, gts)\n",
        "        loss.backward()\n",
        "        optimizer.step()\n",
        "        running_loss += loss.item() * imgs.size(0)\n",
        "    return running_loss / len(dataloader.dataset)"
      ]
    },
    {
      "cell_type": "code",
      "execution_count": 8,
      "metadata": {
        "id": "F9EAKveSPWFM"
      },
      "outputs": [],
      "source": [
        "def validate_epoch(model, dataloader, criterion, device):\n",
        "    model.eval()\n",
        "    running_loss = 0\n",
        "    running_psnr = 0\n",
        "    num_samples = 0\n",
        "    with torch.no_grad():\n",
        "        for imgs, color_idx, gts in dataloader:\n",
        "            imgs = imgs.to(device)\n",
        "            gts = gts.to(device)\n",
        "            color_idx = color_idx.to(device)\n",
        "            preds = model(imgs, color_idx)\n",
        "            loss = criterion(preds, gts)\n",
        "            running_loss += loss.item() * imgs.size(0)\n",
        "            for i in range(imgs.size(0)):\n",
        "                running_psnr += psnr(preds[i:i+1], gts[i:i+1])\n",
        "            num_samples += imgs.size(0)\n",
        "    return running_loss / num_samples, running_psnr / num_samples"
      ]
    },
    {
      "cell_type": "code",
      "execution_count": 9,
      "metadata": {
        "colab": {
          "base_uri": "https://localhost:8080/",
          "height": 1000
        },
        "id": "klMTiIBaPadP",
        "outputId": "118c1f27-b1fc-40c9-b519-a00701a656ec"
      },
      "outputs": [
        {
          "output_type": "display_data",
          "data": {
            "text/plain": [
              "<IPython.core.display.Javascript object>"
            ],
            "application/javascript": [
              "\n",
              "        window._wandbApiKey = new Promise((resolve, reject) => {\n",
              "            function loadScript(url) {\n",
              "            return new Promise(function(resolve, reject) {\n",
              "                let newScript = document.createElement(\"script\");\n",
              "                newScript.onerror = reject;\n",
              "                newScript.onload = resolve;\n",
              "                document.body.appendChild(newScript);\n",
              "                newScript.src = url;\n",
              "            });\n",
              "            }\n",
              "            loadScript(\"https://cdn.jsdelivr.net/npm/postmate/build/postmate.min.js\").then(() => {\n",
              "            const iframe = document.createElement('iframe')\n",
              "            iframe.style.cssText = \"width:0;height:0;border:none\"\n",
              "            document.body.appendChild(iframe)\n",
              "            const handshake = new Postmate({\n",
              "                container: iframe,\n",
              "                url: 'https://wandb.ai/authorize'\n",
              "            });\n",
              "            const timeout = setTimeout(() => reject(\"Couldn't auto authenticate\"), 5000)\n",
              "            handshake.then(function(child) {\n",
              "                child.on('authorize', data => {\n",
              "                    clearTimeout(timeout)\n",
              "                    resolve(data)\n",
              "                });\n",
              "            });\n",
              "            })\n",
              "        });\n",
              "    "
            ]
          },
          "metadata": {}
        },
        {
          "output_type": "stream",
          "name": "stderr",
          "text": [
            "\u001b[34m\u001b[1mwandb\u001b[0m: Logging into wandb.ai. (Learn how to deploy a W&B server locally: https://wandb.me/wandb-server)\n",
            "\u001b[34m\u001b[1mwandb\u001b[0m: You can find your API key in your browser here: https://wandb.ai/authorize?ref=models\n",
            "wandb: Paste an API key from your profile and hit enter:"
          ]
        },
        {
          "name": "stdout",
          "output_type": "stream",
          "text": [
            " ··········\n"
          ]
        },
        {
          "output_type": "stream",
          "name": "stderr",
          "text": [
            "\u001b[34m\u001b[1mwandb\u001b[0m: \u001b[33mWARNING\u001b[0m If you're specifying your api key in code, ensure this code is not shared publicly.\n",
            "\u001b[34m\u001b[1mwandb\u001b[0m: \u001b[33mWARNING\u001b[0m Consider setting the WANDB_API_KEY environment variable, or running `wandb login` from the command line.\n",
            "\u001b[34m\u001b[1mwandb\u001b[0m: No netrc file found, creating one.\n",
            "\u001b[34m\u001b[1mwandb\u001b[0m: Appending key for api.wandb.ai to your netrc file: /root/.netrc\n",
            "\u001b[34m\u001b[1mwandb\u001b[0m: Currently logged in as: \u001b[33mprathameshdhote773\u001b[0m (\u001b[33mprathameshdhote773-rajiv-gandhi-institute-of-petroleum-t\u001b[0m) to \u001b[32mhttps://api.wandb.ai\u001b[0m. Use \u001b[1m`wandb login --relogin`\u001b[0m to force relogin\n"
          ]
        },
        {
          "output_type": "display_data",
          "data": {
            "text/plain": [
              "<IPython.core.display.HTML object>"
            ],
            "text/html": [
              "Tracking run with wandb version 0.21.0"
            ]
          },
          "metadata": {}
        },
        {
          "output_type": "display_data",
          "data": {
            "text/plain": [
              "<IPython.core.display.HTML object>"
            ],
            "text/html": [
              "Run data is saved locally in <code>/content/wandb/run-20250805_123323-hoao5ne1</code>"
            ]
          },
          "metadata": {}
        },
        {
          "output_type": "display_data",
          "data": {
            "text/plain": [
              "<IPython.core.display.HTML object>"
            ],
            "text/html": [
              "Syncing run <strong><a href='https://wandb.ai/prathameshdhote773-rajiv-gandhi-institute-of-petroleum-t/aynalab-coloured-polygon/runs/hoao5ne1' target=\"_blank\">pleasant-voice-35</a></strong> to <a href='https://wandb.ai/prathameshdhote773-rajiv-gandhi-institute-of-petroleum-t/aynalab-coloured-polygon' target=\"_blank\">Weights & Biases</a> (<a href='https://wandb.me/developer-guide' target=\"_blank\">docs</a>)<br>"
            ]
          },
          "metadata": {}
        },
        {
          "output_type": "display_data",
          "data": {
            "text/plain": [
              "<IPython.core.display.HTML object>"
            ],
            "text/html": [
              " View project at <a href='https://wandb.ai/prathameshdhote773-rajiv-gandhi-institute-of-petroleum-t/aynalab-coloured-polygon' target=\"_blank\">https://wandb.ai/prathameshdhote773-rajiv-gandhi-institute-of-petroleum-t/aynalab-coloured-polygon</a>"
            ]
          },
          "metadata": {}
        },
        {
          "output_type": "display_data",
          "data": {
            "text/plain": [
              "<IPython.core.display.HTML object>"
            ],
            "text/html": [
              " View run at <a href='https://wandb.ai/prathameshdhote773-rajiv-gandhi-institute-of-petroleum-t/aynalab-coloured-polygon/runs/hoao5ne1' target=\"_blank\">https://wandb.ai/prathameshdhote773-rajiv-gandhi-institute-of-petroleum-t/aynalab-coloured-polygon/runs/hoao5ne1</a>"
            ]
          },
          "metadata": {}
        },
        {
          "output_type": "stream",
          "name": "stderr",
          "text": [
            "/usr/local/lib/python3.11/dist-packages/torch/optim/lr_scheduler.py:62: UserWarning: The verbose parameter is deprecated. Please use get_last_lr() to access the learning rate.\n",
            "  warnings.warn(\n"
          ]
        },
        {
          "output_type": "stream",
          "name": "stdout",
          "text": [
            "Epoch 1/50, Train Loss: 0.5546, Val Loss: 0.6071, Val PSNR: 6.2436\n",
            "Epoch 2/50, Train Loss: 0.3983, Val Loss: 0.4784, Val PSNR: 7.9057\n",
            "Epoch 3/50, Train Loss: 0.2861, Val Loss: 0.2738, Val PSNR: 11.4054\n",
            "Epoch 4/50, Train Loss: 0.2168, Val Loss: 0.2125, Val PSNR: 11.9214\n",
            "Epoch 5/50, Train Loss: 0.1835, Val Loss: 0.2382, Val PSNR: 12.1255\n",
            "Epoch 6/50, Train Loss: 0.1591, Val Loss: 0.2132, Val PSNR: 12.3024\n",
            "Epoch 7/50, Train Loss: 0.1488, Val Loss: 0.1621, Val PSNR: 13.5732\n",
            "Epoch 8/50, Train Loss: 0.1411, Val Loss: 0.2954, Val PSNR: 10.5870\n",
            "Epoch 9/50, Train Loss: 0.1352, Val Loss: 0.1431, Val PSNR: 13.2508\n",
            "Epoch 10/50, Train Loss: 0.1302, Val Loss: 0.1141, Val PSNR: 13.0713\n",
            "Epoch 11/50, Train Loss: 0.1299, Val Loss: 0.1047, Val PSNR: 13.4404\n",
            "Epoch 12/50, Train Loss: 0.1259, Val Loss: 0.1335, Val PSNR: 13.3710\n",
            "Epoch 13/50, Train Loss: 0.1208, Val Loss: 0.1268, Val PSNR: 13.6004\n",
            "Epoch 14/50, Train Loss: 0.1177, Val Loss: 0.0918, Val PSNR: 15.2726\n",
            "Epoch 15/50, Train Loss: 0.1102, Val Loss: 0.0859, Val PSNR: 15.6355\n",
            "Epoch 16/50, Train Loss: 0.1083, Val Loss: 0.0873, Val PSNR: 15.5000\n",
            "Epoch 17/50, Train Loss: 0.1025, Val Loss: 0.0882, Val PSNR: 15.3985\n",
            "Epoch 18/50, Train Loss: 0.1022, Val Loss: 0.0846, Val PSNR: 16.0914\n",
            "Epoch 19/50, Train Loss: 0.0983, Val Loss: 0.0802, Val PSNR: 16.7190\n",
            "Epoch 20/50, Train Loss: 0.0977, Val Loss: 0.0776, Val PSNR: 16.2854\n",
            "Epoch 21/50, Train Loss: 0.1024, Val Loss: 0.0694, Val PSNR: 16.5941\n",
            "Epoch 22/50, Train Loss: 0.0821, Val Loss: 0.0929, Val PSNR: 14.3742\n",
            "Epoch 23/50, Train Loss: 0.0850, Val Loss: 0.0952, Val PSNR: 13.8158\n",
            "Epoch 24/50, Train Loss: 0.0871, Val Loss: 0.0963, Val PSNR: 13.6835\n",
            "Epoch 25/50, Train Loss: 0.0706, Val Loss: 0.0952, Val PSNR: 15.9464\n",
            "Epoch 26/50, Train Loss: 0.0650, Val Loss: 0.1108, Val PSNR: 13.1097\n",
            "Epoch 27/50, Train Loss: 0.0568, Val Loss: 0.0447, Val PSNR: 19.3365\n",
            "Epoch 28/50, Train Loss: 0.0416, Val Loss: 0.0303, Val PSNR: 20.2873\n",
            "Epoch 29/50, Train Loss: 0.0496, Val Loss: 0.0140, Val PSNR: 27.2513\n",
            "Epoch 30/50, Train Loss: 0.0411, Val Loss: 0.0207, Val PSNR: 24.8857\n",
            "Epoch 31/50, Train Loss: 0.0476, Val Loss: 0.0135, Val PSNR: 26.3456\n",
            "Epoch 32/50, Train Loss: 0.0359, Val Loss: 0.0116, Val PSNR: 27.6172\n",
            "Epoch 33/50, Train Loss: 0.0416, Val Loss: 0.0117, Val PSNR: 25.5268\n",
            "Epoch 34/50, Train Loss: 0.0306, Val Loss: 0.0083, Val PSNR: 28.1162\n",
            "Epoch 35/50, Train Loss: 0.0305, Val Loss: 0.0105, Val PSNR: 25.5911\n",
            "Epoch 36/50, Train Loss: 0.0297, Val Loss: 0.0103, Val PSNR: 28.1933\n",
            "Epoch 37/50, Train Loss: 0.0319, Val Loss: 0.0088, Val PSNR: 27.3751\n",
            "Epoch 38/50, Train Loss: 0.0317, Val Loss: 0.0121, Val PSNR: 26.0186\n",
            "Epoch 39/50, Train Loss: 0.0308, Val Loss: 0.0115, Val PSNR: 24.9206\n",
            "Epoch 40/50, Train Loss: 0.0406, Val Loss: 0.0096, Val PSNR: 27.6147\n",
            "Epoch 41/50, Train Loss: 0.0268, Val Loss: 0.0075, Val PSNR: 29.2461\n",
            "Epoch 42/50, Train Loss: 0.0298, Val Loss: 0.0076, Val PSNR: 27.8907\n",
            "Epoch 43/50, Train Loss: 0.0266, Val Loss: 0.0064, Val PSNR: 29.1236\n",
            "Epoch 44/50, Train Loss: 0.0238, Val Loss: 0.0062, Val PSNR: 29.7169\n",
            "Epoch 45/50, Train Loss: 0.0237, Val Loss: 0.0060, Val PSNR: 29.2075\n",
            "Epoch 46/50, Train Loss: 0.0257, Val Loss: 0.0050, Val PSNR: 30.5793\n",
            "Epoch 47/50, Train Loss: 0.0324, Val Loss: 0.0101, Val PSNR: 27.1391\n",
            "Epoch 48/50, Train Loss: 0.0217, Val Loss: 0.0059, Val PSNR: 29.8162\n",
            "Epoch 49/50, Train Loss: 0.0258, Val Loss: 0.0059, Val PSNR: 30.0129\n",
            "Epoch 50/50, Train Loss: 0.0259, Val Loss: 0.0067, Val PSNR: 27.7420\n"
          ]
        }
      ],
      "source": [
        "if __name__ == '__main__':\n",
        "    import argparse\n",
        "    def parse_args_notebook():\n",
        "        parser = argparse.ArgumentParser()\n",
        "        parser.add_argument('--data_root', type=str, default='/content/drive/MyDrive/Ayna Dataset/dataset')\n",
        "        parser.add_argument('--batch_size', type=int, default=8)  # Reduced for stability\n",
        "        parser.add_argument('--epochs', type=int, default=50)    # More epochs\n",
        "        parser.add_argument('--lr', type=float, default=2e-4)     # Lower LR for stability\n",
        "        args = parser.parse_args(args=[])\n",
        "        return args\n",
        "\n",
        "    args = parse_args_notebook()\n",
        "    wandb.init(project=\"aynalab-coloured-polygon\")\n",
        "\n",
        "    # Only normalize inputs, not targets\n",
        "    norm = Normalize(mean=[0.5,0.5,0.5], std=[0.5,0.5,0.5])\n",
        "    train_transform = Compose([\n",
        "       Resize((128, 128)),\n",
        "       RandomHorizontalFlip(p=0.3),  # Reduced probability\n",
        "       ToTensor(),\n",
        "       norm\n",
        "    ])\n",
        "    val_transform = Compose([\n",
        "       Resize((128, 128)),\n",
        "       ToTensor(),\n",
        "       norm\n",
        "    ])\n",
        "\n",
        "    train_dataset = PolygonColorDataset(args.data_root, split='training', transform=train_transform)\n",
        "    val_dataset = PolygonColorDataset(args.data_root, split='validation', transform=val_transform, color_map=train_dataset.color_map)\n",
        "\n",
        "    train_loader = DataLoader(train_dataset, batch_size=args.batch_size, shuffle=True)\n",
        "    val_loader = DataLoader(val_dataset, batch_size=args.batch_size, shuffle=False)\n",
        "\n",
        "    device = torch.device('cuda' if torch.cuda.is_available() else 'cpu')\n",
        "    # Enhanced model with larger capacity\n",
        "    model = ConditionalUNet(3, 128, len(train_dataset.color_map), 32).to(device)\n",
        "    optimizer = torch.optim.AdamW(model.parameters(), lr=args.lr, weight_decay=1e-4)\n",
        "    scheduler = ReduceLROnPlateau(optimizer, mode='min', factor=0.5, patience=5, verbose=True)\n",
        "\n",
        "    # Enhanced loss function\n",
        "    criterion = CombinedLoss()\n",
        "\n",
        "    best_val_loss = float('inf')\n",
        "    for epoch in range(args.epochs):\n",
        "        train_loss = train_epoch(model, train_loader, optimizer, criterion, device)\n",
        "        val_loss, val_psnr = validate_epoch(model, val_loader, criterion, device)\n",
        "        scheduler.step(val_loss)\n",
        "\n",
        "        print(f'Epoch {epoch+1}/{args.epochs}, Train Loss: {train_loss:.4f}, Val Loss: {val_loss:.4f}, Val PSNR: {val_psnr:.4f}')\n",
        "        wandb.log({\n",
        "            'epoch': epoch+1,\n",
        "            'train_loss': train_loss,\n",
        "            'val_loss': val_loss,\n",
        "            'val_psnr': val_psnr.item(),\n",
        "        })\n",
        "\n",
        "        # Save best model\n",
        "        if val_loss < best_val_loss:\n",
        "            best_val_loss = val_loss\n",
        "            torch.save(model.state_dict(), 'best_conditional_unet.pth')\n",
        "\n",
        "    # Final model save\n",
        "    torch.save(model.state_dict(), 'final_conditional_unet.pth')\n",
        "    wandb.save('best_conditional_unet.pth')"
      ]
    },
    {
      "cell_type": "code",
      "source": [
        "    model.eval()\n",
        "    input_tensor, color_idx, target_tensor = val_dataset[0]\n",
        "    with torch.no_grad():\n",
        "        pred = model(input_tensor.unsqueeze(0).to(device), color_idx.unsqueeze(0).to(device)).cpu().squeeze(0)\n",
        "\n",
        "    pred_img = pred.permute(1, 2, 0).numpy()\n",
        "    true_img = target_tensor.permute(1, 2, 0).numpy()\n",
        "    in_img = unnormalize_input(input_tensor).permute(1, 2, 0).numpy()\n",
        "\n",
        "    import matplotlib.pyplot as plt\n",
        "    plt.figure(figsize=(12, 4))\n",
        "    plt.subplot(1, 3, 1)\n",
        "    plt.title(\"Input Polygon\")\n",
        "    plt.axis('off')\n",
        "    plt.imshow(np.clip(in_img, 0, 1))\n",
        "    plt.subplot(1, 3, 2)\n",
        "    plt.title(\"Model Output\")\n",
        "    plt.axis('off')\n",
        "    plt.imshow(np.clip(pred_img, 0, 1))\n",
        "    plt.subplot(1, 3, 3)\n",
        "    plt.title(\"Ground Truth\")\n",
        "    plt.axis('off')\n",
        "    plt.imshow(np.clip(true_img, 0, 1))\n",
        "    plt.show()\n"
      ],
      "metadata": {
        "colab": {
          "base_uri": "https://localhost:8080/",
          "height": 332
        },
        "id": "QJ9sJWoaMlzg",
        "outputId": "63952b20-d48a-4e0e-b0d5-9a522b78d161"
      },
      "execution_count": 11,
      "outputs": [
        {
          "output_type": "display_data",
          "data": {
            "text/plain": [
              "<Figure size 1200x400 with 3 Axes>"
            ],
            "image/png": "[encoded data removed]"
          },
          "metadata": {}
        }
      ]
    },
    {
      "cell_type": "code",
      "source": [
        "def load_model(model_path, num_colors, device):\n",
        "    model = ConditionalUNet(\n",
        "        input_channels=3,\n",
        "        base_channels=128,     # must match training\n",
        "        num_colors=num_colors,\n",
        "        embedding_dim=32       # must match training\n",
        "    )\n",
        "    model.load_state_dict(torch.load(model_path, map_location=device))\n",
        "    return model.to(device).eval()\n",
        "\n",
        "def infer_and_display(model, color_map, input_image_path, color_name, device):\n",
        "    # Preprocess\n",
        "    transform = Compose([\n",
        "        Resize((128, 128)),\n",
        "        ToTensor(),\n",
        "        Normalize(mean=[0.5]*3, std=[0.5]*3)\n",
        "    ])\n",
        "    img = Image.open(input_image_path).convert('RGB')\n",
        "    img_t = transform(img).unsqueeze(0).to(device)\n",
        "    color_idx = torch.tensor([color_map[color_name]], dtype=torch.long).to(device)\n",
        "\n",
        "    # Forward pass\n",
        "    with torch.no_grad():\n",
        "        output = model(img_t, color_idx)\n",
        "\n",
        "    # Prepare for display\n",
        "    input_vis = np.array(img)\n",
        "    output_np = output.cpu().squeeze().permute(1,2,0).numpy()\n",
        "    # Undo normalization\n",
        "    output_np = (output_np * 0.5 + 0.5)\n",
        "    output_np = np.clip(output_np, 0, 1)\n",
        "\n",
        "    # Plot\n",
        "    plt.figure(figsize=(10,5))\n",
        "    plt.subplot(1,2,1)\n",
        "    plt.title('Input Polygon')\n",
        "    plt.axis('off')\n",
        "    plt.imshow(input_vis)\n",
        "    plt.subplot(1,2,2)\n",
        "    plt.title(f'Output – {color_name}')\n",
        "    plt.axis('off')\n",
        "    plt.imshow(output_np)\n",
        "    plt.show()\n",
        "\n",
        "# Usage example:\n",
        "device = torch.device('cuda' if torch.cuda.is_available() else 'cpu')\n",
        "color_map = train_dataset.color_map\n",
        "model = load_model('best_conditional_unet.pth', num_colors=len(color_map), device=device)\n",
        "\n",
        "# Replace these with your desired test image and color:\n",
        "input_image_path = '/content/drive/MyDrive/Ayna Dataset/dataset/validation/inputs/octagon.png'\n",
        "color_name = 'red'\n",
        "\n",
        "infer_and_display(model, color_map, input_image_path, color_name, device)"
      ],
      "metadata": {
        "colab": {
          "base_uri": "https://localhost:8080/",
          "height": 411
        },
        "id": "42D2XWDMMwRe",
        "outputId": "470a3f27-441b-4284-9b93-020d75c1f543"
      },
      "execution_count": 12,
      "outputs": [
        {
          "output_type": "display_data",
          "data": {
            "text/plain": [
              "<Figure size 1000x500 with 2 Axes>"
            ],
            "image/png": "[encoded data removed]"
          },
          "metadata": {}
        }
      ]
    }
  ],
  "metadata": {
    "accelerator": "GPU",
    "colab": {
      "gpuType": "T4",
      "provenance": []
    },
    "kernelspec": {
      "display_name": "Python 3",
      "name": "python3"
    },
    "language_info": {
      "name": "python"
    }
  },
  "nbformat": 4,
  "nbformat_minor": 0
}